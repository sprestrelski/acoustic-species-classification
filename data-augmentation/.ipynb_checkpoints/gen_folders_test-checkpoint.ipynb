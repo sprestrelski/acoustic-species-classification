{
 "cells": [
  {
   "cell_type": "code",
   "execution_count": 1,
   "id": "8623388e",
   "metadata": {},
   "outputs": [],
   "source": [
    "import os\n",
    "import shutil"
   ]
  },
  {
   "cell_type": "code",
   "execution_count": 2,
   "id": "ded10a0b",
   "metadata": {},
   "outputs": [
    {
     "name": "stdout",
     "output_type": "stream",
     "text": [
      "attach_strong_labels.py    gen_folders_test.ipynb  \u001b[0m\u001b[01;34m__pycache__\u001b[0m/\r\n",
      "combine_folders.py         gen_raw_chunks.py       resample.py\r\n",
      "distribute_chunks.py       gen_species_folders.py  split.py\r\n",
      "gen_chunks_from_labels.py  gen_tweety_labels.py    WTS_chunking.py\r\n"
     ]
    }
   ],
   "source": [
    "%ls"
   ]
  },
  {
   "cell_type": "code",
   "execution_count": null,
   "id": "c61fab1d",
   "metadata": {},
   "outputs": [],
   "source": [
    "file_path = \"/mnt/passive-acoustic-biodiversity/132_peru_xc_BC_2020\""
   ]
  },
  {
   "cell_type": "code",
   "execution_count": null,
   "id": "e89be979",
   "metadata": {},
   "outputs": [],
   "source": [
    "files = [f.path for f in os.scandir(file_path)]"
   ]
  },
  {
   "cell_type": "code",
   "execution_count": null,
   "id": "ff449607",
   "metadata": {},
   "outputs": [],
   "source": [
    "files = [f.path.split]"
   ]
  },
  {
   "cell_type": "code",
   "execution_count": null,
   "id": "270d71d9",
   "metadata": {},
   "outputs": [],
   "source": []
  }
 ],
 "metadata": {
  "kernelspec": {
   "display_name": "Python 3 (ipykernel)",
   "language": "python",
   "name": "python3"
  },
  "language_info": {
   "codemirror_mode": {
    "name": "ipython",
    "version": 3
   },
   "file_extension": ".py",
   "mimetype": "text/x-python",
   "name": "python",
   "nbconvert_exporter": "python",
   "pygments_lexer": "ipython3",
   "version": "3.8.13"
  }
 },
 "nbformat": 4,
 "nbformat_minor": 5
}
